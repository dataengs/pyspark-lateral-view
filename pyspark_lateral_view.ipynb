{
  "nbformat": 4,
  "nbformat_minor": 0,
  "metadata": {
    "colab": {
      "name": "pyspark-lateral-view.ipynb",
      "provenance": [],
      "authorship_tag": "ABX9TyPJMwtsRpL3hW/ruv1IhAaX",
      "include_colab_link": true
    },
    "kernelspec": {
      "name": "python3",
      "display_name": "Python 3"
    },
    "language_info": {
      "name": "python"
    }
  },
  "cells": [
    {
      "cell_type": "markdown",
      "metadata": {
        "id": "view-in-github",
        "colab_type": "text"
      },
      "source": [
        "<a href=\"https://colab.research.google.com/github/dataengs/pyspark-lateral-view/blob/main/pyspark_lateral_view.ipynb\" target=\"_parent\"><img src=\"https://colab.research.google.com/assets/colab-badge.svg\" alt=\"Open In Colab\"/></a>"
      ]
    },
    {
      "cell_type": "code",
      "execution_count": 2,
      "metadata": {
        "id": "-sUIZB4PDTPa"
      },
      "outputs": [],
      "source": [
        "#pip install pyspark"
      ]
    },
    {
      "cell_type": "code",
      "source": [
        "#importa bibliotecas\n",
        "from pyspark.sql import SparkSession\n",
        "#cria sessao spark\n",
        "spark = SparkSession.builder.appName('pyspark-lateral-view').getOrCreate()\n",
        "#cria uma lista de vendas\n",
        "dataset = [(\"Jose\", [\"Camisa\"] ,10, 202201),\n",
        "           (\"Marcos\", [\"Camisa\",\"Bermuda\",\"Jaqueta\"], 25, 202201),\n",
        "           (\"João\", [\"Sapato\", \"Bermuda\"], 17, 202201) \n",
        "          ]\n",
        "#cria um schema manual para criar o dataframe\n",
        "columns = [\"nomeVendedor\",\"produto\",\"qtdVendas\",\"mesAnoVenda\"]\n",
        "#cria o dataframe\n",
        "df = spark.createDataFrame(data=dataset, schema = columns)"
      ],
      "metadata": {
        "id": "U6qmKG1uE5rG"
      },
      "execution_count": 28,
      "outputs": []
    },
    {
      "cell_type": "code",
      "source": [
        "df.show(truncate = False)"
      ],
      "metadata": {
        "colab": {
          "base_uri": "https://localhost:8080/"
        },
        "id": "gcatpdWSFStp",
        "outputId": "db796f0e-b5a1-4161-f70a-b7193a2180b5"
      },
      "execution_count": 30,
      "outputs": [
        {
          "output_type": "stream",
          "name": "stdout",
          "text": [
            "+------------+--------------------------+---------+-----------+\n",
            "|nomeVendedor|produto                   |qtdVendas|mesAnoVenda|\n",
            "+------------+--------------------------+---------+-----------+\n",
            "|Jose        |[Camisa]                  |10       |202201     |\n",
            "|Marcos      |[Camisa, Bermuda, Jaqueta]|25       |202201     |\n",
            "|João        |[Sapato, Bermuda]         |17       |202201     |\n",
            "+------------+--------------------------+---------+-----------+\n",
            "\n"
          ]
        }
      ]
    },
    {
      "cell_type": "code",
      "source": [
        "#Criando uma view sql\n",
        "df.createOrReplaceTempView(\"sql_view\")"
      ],
      "metadata": {
        "id": "VGXCVm3wQym1"
      },
      "execution_count": 31,
      "outputs": []
    },
    {
      "cell_type": "code",
      "source": [
        "spark.sql('''SELECT * FROM sql_view''').show(truncate = False)"
      ],
      "metadata": {
        "colab": {
          "base_uri": "https://localhost:8080/"
        },
        "id": "E8ukXzjzQ3uz",
        "outputId": "928770c9-9ebe-4e48-83a7-9947ba4f18fc"
      },
      "execution_count": 32,
      "outputs": [
        {
          "output_type": "stream",
          "name": "stdout",
          "text": [
            "+------------+--------------------------+---------+-----------+\n",
            "|nomeVendedor|produto                   |qtdVendas|mesAnoVenda|\n",
            "+------------+--------------------------+---------+-----------+\n",
            "|Jose        |[Camisa]                  |10       |202201     |\n",
            "|Marcos      |[Camisa, Bermuda, Jaqueta]|25       |202201     |\n",
            "|João        |[Sapato, Bermuda]         |17       |202201     |\n",
            "+------------+--------------------------+---------+-----------+\n",
            "\n"
          ]
        }
      ]
    },
    {
      "cell_type": "code",
      "source": [
        "#Executando a cláusula LATERAL VIEW em conjunto com o EXPLODE\n",
        "#onde irá gerar uma tabela contendo uma ou mais linhas.\n",
        "#nesse exemplo aplicará as linhas do array a cada linha de saída original\n",
        "df_result = spark.sql('''SELECT * FROM sql_view\n",
        "                      LATERAL VIEW EXPLODE(ARRAY(20, 40)) AS a_category\n",
        "                      LATERAL VIEW EXPLODE(ARRAY(41, 80)) AS b_category''')"
      ],
      "metadata": {
        "id": "SoRkIarpKQjj"
      },
      "execution_count": 38,
      "outputs": []
    },
    {
      "cell_type": "code",
      "source": [
        "df_result.show(truncate=False)"
      ],
      "metadata": {
        "colab": {
          "base_uri": "https://localhost:8080/"
        },
        "id": "-N4utXjmUMEw",
        "outputId": "c258f792-50db-4187-bc22-904e73e33e43"
      },
      "execution_count": 39,
      "outputs": [
        {
          "output_type": "stream",
          "name": "stdout",
          "text": [
            "+------------+--------------------------+---------+-----------+----------+----------+\n",
            "|nomeVendedor|produto                   |qtdVendas|mesAnoVenda|a_category|b_category|\n",
            "+------------+--------------------------+---------+-----------+----------+----------+\n",
            "|Jose        |[Camisa]                  |10       |202201     |20        |41        |\n",
            "|Jose        |[Camisa]                  |10       |202201     |20        |80        |\n",
            "|Jose        |[Camisa]                  |10       |202201     |40        |41        |\n",
            "|Jose        |[Camisa]                  |10       |202201     |40        |80        |\n",
            "|Marcos      |[Camisa, Bermuda, Jaqueta]|25       |202201     |20        |41        |\n",
            "|Marcos      |[Camisa, Bermuda, Jaqueta]|25       |202201     |20        |80        |\n",
            "|Marcos      |[Camisa, Bermuda, Jaqueta]|25       |202201     |40        |41        |\n",
            "|Marcos      |[Camisa, Bermuda, Jaqueta]|25       |202201     |40        |80        |\n",
            "|João        |[Sapato, Bermuda]         |17       |202201     |20        |41        |\n",
            "|João        |[Sapato, Bermuda]         |17       |202201     |20        |80        |\n",
            "|João        |[Sapato, Bermuda]         |17       |202201     |40        |41        |\n",
            "|João        |[Sapato, Bermuda]         |17       |202201     |40        |80        |\n",
            "+------------+--------------------------+---------+-----------+----------+----------+\n",
            "\n"
          ]
        }
      ]
    }
  ]
}